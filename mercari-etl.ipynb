{
 "cells": [
  {
   "cell_type": "code",
   "execution_count": 1,
   "id": "72581f9b",
   "metadata": {
    "_cell_guid": "b1076dfc-b9ad-4769-8c92-a6c4dae69d19",
    "_uuid": "8f2839f25d086af736a60e9eeb907d3b93b6e0e5",
    "execution": {
     "iopub.execute_input": "2022-08-21T14:08:34.283941Z",
     "iopub.status.busy": "2022-08-21T14:08:34.283315Z",
     "iopub.status.idle": "2022-08-21T14:08:34.303992Z",
     "shell.execute_reply": "2022-08-21T14:08:34.302822Z"
    },
    "papermill": {
     "duration": 0.036428,
     "end_time": "2022-08-21T14:08:34.306835",
     "exception": false,
     "start_time": "2022-08-21T14:08:34.270407",
     "status": "completed"
    },
    "tags": []
   },
   "outputs": [
    {
     "name": "stdout",
     "output_type": "stream",
     "text": [
      "/kaggle/input/mercari-price-suggestion-challenge/train.tsv.7z\n",
      "/kaggle/input/mercari-price-suggestion-challenge/test.tsv.7z\n",
      "/kaggle/input/mercari-price-suggestion-challenge/sample_submission_stg2.csv.zip\n",
      "/kaggle/input/mercari-price-suggestion-challenge/test_stg2.tsv.zip\n",
      "/kaggle/input/mercari-price-suggestion-challenge/sample_submission.csv.7z\n"
     ]
    }
   ],
   "source": [
    "# This Python 3 environment comes with many helpful analytics libraries installed\n",
    "# It is defined by the kaggle/python Docker image: https://github.com/kaggle/docker-python\n",
    "# For example, here's several helpful packages to load\n",
    "\n",
    "import numpy as np # linear algebra\n",
    "import pandas as pd # data processing, CSV file I/O (e.g. pd.read_csv)\n",
    "\n",
    "# Input data files are available in the read-only \"../input/\" directory\n",
    "# For example, running this (by clicking run or pressing Shift+Enter) will list all files under the input directory\n",
    "\n",
    "import os\n",
    "for dirname, _, filenames in os.walk('/kaggle/input'):\n",
    "    for filename in filenames:\n",
    "        print(os.path.join(dirname, filename))\n",
    "\n",
    "# You can write up to 20GB to the current directory (/kaggle/working/) that gets preserved as output when you create a version using \"Save & Run All\" \n",
    "# You can also write temporary files to /kaggle/temp/, but they won't be saved outside of the current session"
   ]
  },
  {
   "cell_type": "code",
   "execution_count": 2,
   "id": "25eb148b",
   "metadata": {
    "execution": {
     "iopub.execute_input": "2022-08-21T14:08:34.323809Z",
     "iopub.status.busy": "2022-08-21T14:08:34.323078Z",
     "iopub.status.idle": "2022-08-21T14:08:59.978420Z",
     "shell.execute_reply": "2022-08-21T14:08:59.976970Z"
    },
    "papermill": {
     "duration": 25.666776,
     "end_time": "2022-08-21T14:08:59.981269",
     "exception": false,
     "start_time": "2022-08-21T14:08:34.314493",
     "status": "completed"
    },
    "tags": []
   },
   "outputs": [
    {
     "name": "stdout",
     "output_type": "stream",
     "text": [
      "Collecting pyunpack\r\n",
      "  Downloading pyunpack-0.3-py2.py3-none-any.whl (4.1 kB)\r\n",
      "Collecting entrypoint2\r\n",
      "  Downloading entrypoint2-1.1-py2.py3-none-any.whl (9.9 kB)\r\n",
      "Collecting easyprocess\r\n",
      "  Downloading EasyProcess-1.1-py3-none-any.whl (8.7 kB)\r\n",
      "Installing collected packages: entrypoint2, easyprocess, pyunpack\r\n",
      "Successfully installed easyprocess-1.1 entrypoint2-1.1 pyunpack-0.3\r\n",
      "\u001b[33mWARNING: Running pip as the 'root' user can result in broken permissions and conflicting behaviour with the system package manager. It is recommended to use a virtual environment instead: https://pip.pypa.io/warnings/venv\u001b[0m\u001b[33m\r\n",
      "\u001b[0mCollecting patool\r\n",
      "  Downloading patool-1.12-py2.py3-none-any.whl (77 kB)\r\n",
      "\u001b[2K     \u001b[90m━━━━━━━━━━━━━━━━━━━━━━━━━━━━━━━━━━━━━━━━\u001b[0m \u001b[32m77.5/77.5 kB\u001b[0m \u001b[31m2.6 MB/s\u001b[0m eta \u001b[36m0:00:00\u001b[0m\r\n",
      "\u001b[?25hInstalling collected packages: patool\r\n",
      "Successfully installed patool-1.12\r\n",
      "\u001b[33mWARNING: Running pip as the 'root' user can result in broken permissions and conflicting behaviour with the system package manager. It is recommended to use a virtual environment instead: https://pip.pypa.io/warnings/venv\u001b[0m\u001b[33m\r\n",
      "\u001b[0m"
     ]
    }
   ],
   "source": [
    "!pip install pyunpack\n",
    "!pip install patool\n",
    "\n",
    "import os\n",
    "from pyunpack import Archive\n",
    "import shutil\n",
    "import numpy as np\n",
    "\n",
    "%matplotlib inline\n",
    "import matplotlib.pyplot as plt\n",
    "import seaborn as sns\n",
    "sns.set(style='whitegrid')"
   ]
  },
  {
   "cell_type": "code",
   "execution_count": 3,
   "id": "a8df562d",
   "metadata": {
    "execution": {
     "iopub.execute_input": "2022-08-21T14:08:59.999935Z",
     "iopub.status.busy": "2022-08-21T14:08:59.998812Z",
     "iopub.status.idle": "2022-08-21T14:09:10.701870Z",
     "shell.execute_reply": "2022-08-21T14:09:10.700178Z"
    },
    "papermill": {
     "duration": 10.715467,
     "end_time": "2022-08-21T14:09:10.704943",
     "exception": false,
     "start_time": "2022-08-21T14:08:59.989476",
     "status": "completed"
    },
    "tags": []
   },
   "outputs": [],
   "source": [
    "# 解凍したいファイルのフルパス\n",
    "TRAIN_PACKED_PATH=\"/kaggle/input/mercari-price-suggestion-challenge/train.tsv.7z\"\n",
    "TEST_PACKED_PATH=\"/kaggle/input/mercari-price-suggestion-challenge/test.tsv.7z\"\n",
    "\n",
    "# 解凍後のファイルの出力先\n",
    "UNPACKED_PATH=\"/kaggle/working/unlocked/\"\n",
    "\n",
    "if not os.path.exists(UNPACKED_PATH):\n",
    "    os.makedirs(UNPACKED_PATH)\n",
    "    \n",
    "Archive(TRAIN_PACKED_PATH).extractall(UNPACKED_PATH)\n",
    "Archive(TEST_PACKED_PATH).extractall(UNPACKED_PATH)\n",
    "\n",
    "for dirname, _, filenames in os.walk(TEST_PACKED_PATH):\n",
    "    for filename in filenames:\n",
    "        print(os.path.join(dirname, filename))\n",
    "        \n",
    "for dirname, _, filenames in os.walk(TRAIN_PACKED_PATH):\n",
    "    for filename in filenames:\n",
    "        print(os.path.join(dirname, filename))"
   ]
  },
  {
   "cell_type": "code",
   "execution_count": 4,
   "id": "3c4318c1",
   "metadata": {
    "execution": {
     "iopub.execute_input": "2022-08-21T14:09:10.723463Z",
     "iopub.status.busy": "2022-08-21T14:09:10.722405Z",
     "iopub.status.idle": "2022-08-21T14:09:19.919408Z",
     "shell.execute_reply": "2022-08-21T14:09:19.918069Z"
    },
    "papermill": {
     "duration": 9.209394,
     "end_time": "2022-08-21T14:09:19.922449",
     "exception": false,
     "start_time": "2022-08-21T14:09:10.713055",
     "status": "completed"
    },
    "tags": []
   },
   "outputs": [
    {
     "name": "stdout",
     "output_type": "stream",
     "text": [
      "(1482535, 8)\n",
      "(693359, 7)\n"
     ]
    }
   ],
   "source": [
    "path = \"/kaggle/working/unlocked/\"\n",
    "train_df = pd.read_csv(path+\"train.tsv\", header=0, sep='\\t')\n",
    "test_df = pd.read_csv(path+\"test.tsv\", header=0, sep='\\t')\n",
    "\n",
    "print(train_df.shape)\n",
    "print(test_df.shape)"
   ]
  },
  {
   "cell_type": "markdown",
   "id": "cebd4006",
   "metadata": {
    "papermill": {
     "duration": 0.007763,
     "end_time": "2022-08-21T14:09:19.939299",
     "exception": false,
     "start_time": "2022-08-21T14:09:19.931536",
     "status": "completed"
    },
    "tags": []
   },
   "source": [
    "# priceが今回の目的変数であることを確認"
   ]
  },
  {
   "cell_type": "markdown",
   "id": "82b05592",
   "metadata": {
    "papermill": {
     "duration": 0.007707,
     "end_time": "2022-08-21T14:09:19.955072",
     "exception": false,
     "start_time": "2022-08-21T14:09:19.947365",
     "status": "completed"
    },
    "tags": []
   },
   "source": [
    "**name：商品のタイトル(価格データなどは削除してあります)<br>\n",
    "item_condition_id：商品のコンディション<br>\n",
    "category_name：商品のカテゴリ (最大3つ)<br>\n",
    "brand_name：ブランド名<br>\n",
    "price：商品が販売された時の価格(ドル)で、今回求める数値<br>\n",
    "shipping：送料が出品者負担かどうか(出品者負担: 1、購入者負担: 0)<br>\n",
    "item_description：商品の説明、価格情報は削除済み**"
   ]
  },
  {
   "cell_type": "code",
   "execution_count": 5,
   "id": "96192225",
   "metadata": {
    "execution": {
     "iopub.execute_input": "2022-08-21T14:09:19.973688Z",
     "iopub.status.busy": "2022-08-21T14:09:19.972514Z",
     "iopub.status.idle": "2022-08-21T14:09:19.997498Z",
     "shell.execute_reply": "2022-08-21T14:09:19.996353Z"
    },
    "papermill": {
     "duration": 0.036582,
     "end_time": "2022-08-21T14:09:19.999716",
     "exception": false,
     "start_time": "2022-08-21T14:09:19.963134",
     "status": "completed"
    },
    "tags": []
   },
   "outputs": [
    {
     "data": {
      "text/html": [
       "<div>\n",
       "<style scoped>\n",
       "    .dataframe tbody tr th:only-of-type {\n",
       "        vertical-align: middle;\n",
       "    }\n",
       "\n",
       "    .dataframe tbody tr th {\n",
       "        vertical-align: top;\n",
       "    }\n",
       "\n",
       "    .dataframe thead th {\n",
       "        text-align: right;\n",
       "    }\n",
       "</style>\n",
       "<table border=\"1\" class=\"dataframe\">\n",
       "  <thead>\n",
       "    <tr style=\"text-align: right;\">\n",
       "      <th></th>\n",
       "      <th>train_id</th>\n",
       "      <th>name</th>\n",
       "      <th>item_condition_id</th>\n",
       "      <th>category_name</th>\n",
       "      <th>brand_name</th>\n",
       "      <th>price</th>\n",
       "      <th>shipping</th>\n",
       "      <th>item_description</th>\n",
       "    </tr>\n",
       "  </thead>\n",
       "  <tbody>\n",
       "    <tr>\n",
       "      <th>0</th>\n",
       "      <td>0</td>\n",
       "      <td>MLB Cincinnati Reds T Shirt Size XL</td>\n",
       "      <td>3</td>\n",
       "      <td>Men/Tops/T-shirts</td>\n",
       "      <td>NaN</td>\n",
       "      <td>10.0</td>\n",
       "      <td>1</td>\n",
       "      <td>No description yet</td>\n",
       "    </tr>\n",
       "    <tr>\n",
       "      <th>1</th>\n",
       "      <td>1</td>\n",
       "      <td>Razer BlackWidow Chroma Keyboard</td>\n",
       "      <td>3</td>\n",
       "      <td>Electronics/Computers &amp; Tablets/Components &amp; P...</td>\n",
       "      <td>Razer</td>\n",
       "      <td>52.0</td>\n",
       "      <td>0</td>\n",
       "      <td>This keyboard is in great condition and works ...</td>\n",
       "    </tr>\n",
       "    <tr>\n",
       "      <th>2</th>\n",
       "      <td>2</td>\n",
       "      <td>AVA-VIV Blouse</td>\n",
       "      <td>1</td>\n",
       "      <td>Women/Tops &amp; Blouses/Blouse</td>\n",
       "      <td>Target</td>\n",
       "      <td>10.0</td>\n",
       "      <td>1</td>\n",
       "      <td>Adorable top with a hint of lace and a key hol...</td>\n",
       "    </tr>\n",
       "  </tbody>\n",
       "</table>\n",
       "</div>"
      ],
      "text/plain": [
       "   train_id                                 name  item_condition_id  \\\n",
       "0         0  MLB Cincinnati Reds T Shirt Size XL                  3   \n",
       "1         1     Razer BlackWidow Chroma Keyboard                  3   \n",
       "2         2                       AVA-VIV Blouse                  1   \n",
       "\n",
       "                                       category_name brand_name  price  \\\n",
       "0                                  Men/Tops/T-shirts        NaN   10.0   \n",
       "1  Electronics/Computers & Tablets/Components & P...      Razer   52.0   \n",
       "2                        Women/Tops & Blouses/Blouse     Target   10.0   \n",
       "\n",
       "   shipping                                   item_description  \n",
       "0         1                                 No description yet  \n",
       "1         0  This keyboard is in great condition and works ...  \n",
       "2         1  Adorable top with a hint of lace and a key hol...  "
      ]
     },
     "execution_count": 5,
     "metadata": {},
     "output_type": "execute_result"
    }
   ],
   "source": [
    "train_df.head(3)"
   ]
  },
  {
   "cell_type": "code",
   "execution_count": 6,
   "id": "c43452fc",
   "metadata": {
    "execution": {
     "iopub.execute_input": "2022-08-21T14:09:20.018232Z",
     "iopub.status.busy": "2022-08-21T14:09:20.017829Z",
     "iopub.status.idle": "2022-08-21T14:09:20.031816Z",
     "shell.execute_reply": "2022-08-21T14:09:20.030658Z"
    },
    "papermill": {
     "duration": 0.025907,
     "end_time": "2022-08-21T14:09:20.034123",
     "exception": false,
     "start_time": "2022-08-21T14:09:20.008216",
     "status": "completed"
    },
    "tags": []
   },
   "outputs": [
    {
     "data": {
      "text/html": [
       "<div>\n",
       "<style scoped>\n",
       "    .dataframe tbody tr th:only-of-type {\n",
       "        vertical-align: middle;\n",
       "    }\n",
       "\n",
       "    .dataframe tbody tr th {\n",
       "        vertical-align: top;\n",
       "    }\n",
       "\n",
       "    .dataframe thead th {\n",
       "        text-align: right;\n",
       "    }\n",
       "</style>\n",
       "<table border=\"1\" class=\"dataframe\">\n",
       "  <thead>\n",
       "    <tr style=\"text-align: right;\">\n",
       "      <th></th>\n",
       "      <th>test_id</th>\n",
       "      <th>name</th>\n",
       "      <th>item_condition_id</th>\n",
       "      <th>category_name</th>\n",
       "      <th>brand_name</th>\n",
       "      <th>shipping</th>\n",
       "      <th>item_description</th>\n",
       "    </tr>\n",
       "  </thead>\n",
       "  <tbody>\n",
       "    <tr>\n",
       "      <th>0</th>\n",
       "      <td>0</td>\n",
       "      <td>Breast cancer \"I fight like a girl\" ring</td>\n",
       "      <td>1</td>\n",
       "      <td>Women/Jewelry/Rings</td>\n",
       "      <td>NaN</td>\n",
       "      <td>1</td>\n",
       "      <td>Size 7</td>\n",
       "    </tr>\n",
       "    <tr>\n",
       "      <th>1</th>\n",
       "      <td>1</td>\n",
       "      <td>25 pcs NEW 7.5\"x12\" Kraft Bubble Mailers</td>\n",
       "      <td>1</td>\n",
       "      <td>Other/Office supplies/Shipping Supplies</td>\n",
       "      <td>NaN</td>\n",
       "      <td>1</td>\n",
       "      <td>25 pcs NEW 7.5\"x12\" Kraft Bubble Mailers Lined...</td>\n",
       "    </tr>\n",
       "    <tr>\n",
       "      <th>2</th>\n",
       "      <td>2</td>\n",
       "      <td>Coach bag</td>\n",
       "      <td>1</td>\n",
       "      <td>Vintage &amp; Collectibles/Bags and Purses/Handbag</td>\n",
       "      <td>Coach</td>\n",
       "      <td>1</td>\n",
       "      <td>Brand new coach bag. Bought for [rm] at a Coac...</td>\n",
       "    </tr>\n",
       "  </tbody>\n",
       "</table>\n",
       "</div>"
      ],
      "text/plain": [
       "   test_id                                      name  item_condition_id  \\\n",
       "0        0  Breast cancer \"I fight like a girl\" ring                  1   \n",
       "1        1  25 pcs NEW 7.5\"x12\" Kraft Bubble Mailers                  1   \n",
       "2        2                                 Coach bag                  1   \n",
       "\n",
       "                                    category_name brand_name  shipping  \\\n",
       "0                             Women/Jewelry/Rings        NaN         1   \n",
       "1         Other/Office supplies/Shipping Supplies        NaN         1   \n",
       "2  Vintage & Collectibles/Bags and Purses/Handbag      Coach         1   \n",
       "\n",
       "                                    item_description  \n",
       "0                                             Size 7  \n",
       "1  25 pcs NEW 7.5\"x12\" Kraft Bubble Mailers Lined...  \n",
       "2  Brand new coach bag. Bought for [rm] at a Coac...  "
      ]
     },
     "execution_count": 6,
     "metadata": {},
     "output_type": "execute_result"
    }
   ],
   "source": [
    "test_df.head(3)"
   ]
  },
  {
   "cell_type": "markdown",
   "id": "ef8db209",
   "metadata": {
    "papermill": {
     "duration": 0.008276,
     "end_time": "2022-08-21T14:09:20.051692",
     "exception": false,
     "start_time": "2022-08-21T14:09:20.043416",
     "status": "completed"
    },
    "tags": []
   },
   "source": [
    "# priceの分布を確認し、歪度が0から離れていれば自然対数変換で正規分布に近づける"
   ]
  },
  {
   "cell_type": "code",
   "execution_count": 7,
   "id": "772ed09e",
   "metadata": {
    "execution": {
     "iopub.execute_input": "2022-08-21T14:09:20.070851Z",
     "iopub.status.busy": "2022-08-21T14:09:20.070449Z",
     "iopub.status.idle": "2022-08-21T14:09:21.198691Z",
     "shell.execute_reply": "2022-08-21T14:09:21.197456Z"
    },
    "papermill": {
     "duration": 1.141283,
     "end_time": "2022-08-21T14:09:21.201493",
     "exception": false,
     "start_time": "2022-08-21T14:09:20.060210",
     "status": "completed"
    },
    "tags": []
   },
   "outputs": [
    {
     "data": {
      "image/png": "[encoded data removed]",
      "text/plain": [
       "<Figure size 1440x720 with 2 Axes>"
      ]
     },
     "metadata": {},
     "output_type": "display_data"
    }
   ],
   "source": [
    "plt.subplot(1, 2, 1) # 表の配置\n",
    "(train_df['price']).plot.hist(bins=50, figsize=(20,10), edgecolor='white',range=[0,250])\n",
    "plt.xlabel('price+', fontsize=17)\n",
    "plt.ylabel('frequency', fontsize=17)\n",
    "plt.tick_params(labelsize=15)\n",
    "plt.title('Price Distribution - Training Set', fontsize=17)\n",
    "\n",
    "plt.subplot(1, 2, 2)\n",
    "np.log1p(train_df['price']).plot.hist(bins=50, figsize=(20,10), edgecolor='white')\n",
    "plt.xlabel('log(price+1)', fontsize=17)\n",
    "plt.ylabel('frequency', fontsize=17)\n",
    "plt.tick_params(labelsize=15)\n",
    "plt.title('Log(Price) Distribution - Training Set', fontsize=17)\n",
    "plt.show()"
   ]
  },
  {
   "cell_type": "code",
   "execution_count": 8,
   "id": "4271dfb8",
   "metadata": {
    "execution": {
     "iopub.execute_input": "2022-08-21T14:09:21.223136Z",
     "iopub.status.busy": "2022-08-21T14:09:21.222177Z",
     "iopub.status.idle": "2022-08-21T14:09:21.261270Z",
     "shell.execute_reply": "2022-08-21T14:09:21.259994Z"
    },
    "papermill": {
     "duration": 0.05306,
     "end_time": "2022-08-21T14:09:21.264342",
     "exception": false,
     "start_time": "2022-08-21T14:09:21.211282",
     "status": "completed"
    },
    "tags": []
   },
   "outputs": [],
   "source": [
    "train_df['price'] = np.log1p(train_df['price'])"
   ]
  },
  {
   "cell_type": "markdown",
   "id": "225960fb",
   "metadata": {
    "papermill": {
     "duration": 0.009036,
     "end_time": "2022-08-21T14:09:21.283049",
     "exception": false,
     "start_time": "2022-08-21T14:09:21.274013",
     "status": "completed"
    },
    "tags": []
   },
   "source": [
    "# 欠損値の補完"
   ]
  },
  {
   "cell_type": "code",
   "execution_count": 9,
   "id": "66afcb3f",
   "metadata": {
    "execution": {
     "iopub.execute_input": "2022-08-21T14:09:21.304211Z",
     "iopub.status.busy": "2022-08-21T14:09:21.303104Z",
     "iopub.status.idle": "2022-08-21T14:09:21.653358Z",
     "shell.execute_reply": "2022-08-21T14:09:21.652079Z"
    },
    "papermill": {
     "duration": 0.363698,
     "end_time": "2022-08-21T14:09:21.656048",
     "exception": false,
     "start_time": "2022-08-21T14:09:21.292350",
     "status": "completed"
    },
    "tags": []
   },
   "outputs": [
    {
     "data": {
      "text/plain": [
       "train_id                  0\n",
       "name                      0\n",
       "item_condition_id         0\n",
       "category_name          6327\n",
       "brand_name           632682\n",
       "price                     0\n",
       "shipping                  0\n",
       "item_description          4\n",
       "dtype: int64"
      ]
     },
     "execution_count": 9,
     "metadata": {},
     "output_type": "execute_result"
    }
   ],
   "source": [
    "train_df.isnull().sum()"
   ]
  },
  {
   "cell_type": "code",
   "execution_count": 10,
   "id": "e690f2b5",
   "metadata": {
    "execution": {
     "iopub.execute_input": "2022-08-21T14:09:21.677042Z",
     "iopub.status.busy": "2022-08-21T14:09:21.676210Z",
     "iopub.status.idle": "2022-08-21T14:09:22.310160Z",
     "shell.execute_reply": "2022-08-21T14:09:22.309067Z"
    },
    "papermill": {
     "duration": 0.647464,
     "end_time": "2022-08-21T14:09:22.312890",
     "exception": false,
     "start_time": "2022-08-21T14:09:21.665426",
     "status": "completed"
    },
    "tags": []
   },
   "outputs": [],
   "source": [
    "train_df['category_name'] = train_df['category_name'].fillna(\"Nan\")\n",
    "train_df['brand_name'] = train_df['brand_name'].fillna(\"Nan\")\n",
    "train_df['item_description'] = train_df['item_description'].fillna(\"Nan\")\n",
    "test_df['category_name'] = test_df['category_name'].fillna(\"Nan\")\n",
    "test_df['brand_name'] = test_df['brand_name'].fillna(\"Nan\")\n",
    "test_df['item_description'] = test_df['item_description'].fillna(\"Nan\")"
   ]
  },
  {
   "cell_type": "code",
   "execution_count": 11,
   "id": "60ad42ea",
   "metadata": {
    "execution": {
     "iopub.execute_input": "2022-08-21T14:09:22.334904Z",
     "iopub.status.busy": "2022-08-21T14:09:22.334455Z",
     "iopub.status.idle": "2022-08-21T14:09:22.674346Z",
     "shell.execute_reply": "2022-08-21T14:09:22.673056Z"
    },
    "papermill": {
     "duration": 0.353922,
     "end_time": "2022-08-21T14:09:22.676828",
     "exception": false,
     "start_time": "2022-08-21T14:09:22.322906",
     "status": "completed"
    },
    "tags": []
   },
   "outputs": [
    {
     "data": {
      "text/plain": [
       "train_id             0\n",
       "name                 0\n",
       "item_condition_id    0\n",
       "category_name        0\n",
       "brand_name           0\n",
       "price                0\n",
       "shipping             0\n",
       "item_description     0\n",
       "dtype: int64"
      ]
     },
     "execution_count": 11,
     "metadata": {},
     "output_type": "execute_result"
    }
   ],
   "source": [
    "train_df.isnull().sum()"
   ]
  },
  {
   "cell_type": "code",
   "execution_count": 12,
   "id": "c66fc42b",
   "metadata": {
    "execution": {
     "iopub.execute_input": "2022-08-21T14:09:22.698331Z",
     "iopub.status.busy": "2022-08-21T14:09:22.697353Z",
     "iopub.status.idle": "2022-08-21T14:09:22.705331Z",
     "shell.execute_reply": "2022-08-21T14:09:22.704258Z"
    },
    "papermill": {
     "duration": 0.021652,
     "end_time": "2022-08-21T14:09:22.707993",
     "exception": false,
     "start_time": "2022-08-21T14:09:22.686341",
     "status": "completed"
    },
    "tags": []
   },
   "outputs": [
    {
     "data": {
      "text/plain": [
       "str"
      ]
     },
     "execution_count": 12,
     "metadata": {},
     "output_type": "execute_result"
    }
   ],
   "source": [
    "type(test_df['category_name'][0])"
   ]
  },
  {
   "cell_type": "code",
   "execution_count": 13,
   "id": "1d3da04e",
   "metadata": {
    "execution": {
     "iopub.execute_input": "2022-08-21T14:09:22.729201Z",
     "iopub.status.busy": "2022-08-21T14:09:22.728776Z",
     "iopub.status.idle": "2022-08-21T14:09:26.760123Z",
     "shell.execute_reply": "2022-08-21T14:09:26.758821Z"
    },
    "papermill": {
     "duration": 4.045373,
     "end_time": "2022-08-21T14:09:26.763202",
     "exception": false,
     "start_time": "2022-08-21T14:09:22.717829",
     "status": "completed"
    },
    "tags": []
   },
   "outputs": [],
   "source": [
    "try:\n",
    "    train_category_name_list = []\n",
    "    for categorys_name in train_df['category_name']:\n",
    "        category_names = categorys_name.split('/')\n",
    "        train_category_name_list.append(category_names)\n",
    "except Exception as e:\n",
    "    print(categorys_name)\n",
    "    print(e)\n",
    "        \n",
    "test_category_name_list = []\n",
    "for categorys_name in test_df['category_name']:\n",
    "    category_names = categorys_name.split('/')\n",
    "    test_category_name_list.append(category_names)"
   ]
  },
  {
   "cell_type": "code",
   "execution_count": 14,
   "id": "75dd4465",
   "metadata": {
    "execution": {
     "iopub.execute_input": "2022-08-21T14:09:26.785127Z",
     "iopub.status.busy": "2022-08-21T14:09:26.784401Z",
     "iopub.status.idle": "2022-08-21T14:09:26.790540Z",
     "shell.execute_reply": "2022-08-21T14:09:26.789632Z"
    },
    "papermill": {
     "duration": 0.019527,
     "end_time": "2022-08-21T14:09:26.792813",
     "exception": false,
     "start_time": "2022-08-21T14:09:26.773286",
     "status": "completed"
    },
    "tags": []
   },
   "outputs": [
    {
     "data": {
      "text/plain": [
       "693359"
      ]
     },
     "execution_count": 14,
     "metadata": {},
     "output_type": "execute_result"
    }
   ],
   "source": [
    "len(test_category_name_list)"
   ]
  },
  {
   "cell_type": "code",
   "execution_count": 15,
   "id": "3a5a9240",
   "metadata": {
    "execution": {
     "iopub.execute_input": "2022-08-21T14:09:26.814464Z",
     "iopub.status.busy": "2022-08-21T14:09:26.814095Z",
     "iopub.status.idle": "2022-08-21T14:09:26.819617Z",
     "shell.execute_reply": "2022-08-21T14:09:26.818803Z"
    },
    "papermill": {
     "duration": 0.019338,
     "end_time": "2022-08-21T14:09:26.821848",
     "exception": false,
     "start_time": "2022-08-21T14:09:26.802510",
     "status": "completed"
    },
    "tags": []
   },
   "outputs": [
    {
     "data": {
      "text/plain": [
       "1482535"
      ]
     },
     "execution_count": 15,
     "metadata": {},
     "output_type": "execute_result"
    }
   ],
   "source": [
    "len(train_category_name_list)"
   ]
  },
  {
   "cell_type": "code",
   "execution_count": 16,
   "id": "3bca3dd8",
   "metadata": {
    "execution": {
     "iopub.execute_input": "2022-08-21T14:09:26.843676Z",
     "iopub.status.busy": "2022-08-21T14:09:26.843292Z",
     "iopub.status.idle": "2022-08-21T14:09:27.807230Z",
     "shell.execute_reply": "2022-08-21T14:09:27.806109Z"
    },
    "papermill": {
     "duration": 0.978778,
     "end_time": "2022-08-21T14:09:27.810501",
     "exception": false,
     "start_time": "2022-08-21T14:09:26.831723",
     "status": "completed"
    },
    "tags": []
   },
   "outputs": [],
   "source": [
    "train_category_name_list = pd.DataFrame(train_category_name_list)\n",
    "test_category_name_list = pd.DataFrame(test_category_name_list)\n",
    "\n",
    "train_df['category_0'] = train_category_name_list[0]\n",
    "train_df['category_1'] = train_category_name_list[1]\n",
    "train_df['category_2'] = train_category_name_list[2]\n",
    "\n",
    "test_df['category_0'] = test_category_name_list[0]\n",
    "test_df['category_1'] = test_category_name_list[1]\n",
    "test_df['category_2'] = test_category_name_list[2]"
   ]
  },
  {
   "cell_type": "code",
   "execution_count": 17,
   "id": "60167a35",
   "metadata": {
    "execution": {
     "iopub.execute_input": "2022-08-21T14:09:27.832623Z",
     "iopub.status.busy": "2022-08-21T14:09:27.832208Z",
     "iopub.status.idle": "2022-08-21T14:09:27.841077Z",
     "shell.execute_reply": "2022-08-21T14:09:27.839924Z"
    },
    "papermill": {
     "duration": 0.022325,
     "end_time": "2022-08-21T14:09:27.843380",
     "exception": false,
     "start_time": "2022-08-21T14:09:27.821055",
     "status": "completed"
    },
    "tags": []
   },
   "outputs": [
    {
     "data": {
      "text/plain": [
       "0            Men\n",
       "1    Electronics\n",
       "2          Women\n",
       "3           Home\n",
       "4          Women\n",
       "Name: category_0, dtype: object"
      ]
     },
     "execution_count": 17,
     "metadata": {},
     "output_type": "execute_result"
    }
   ],
   "source": [
    "train_df['category_0'].head()"
   ]
  },
  {
   "cell_type": "code",
   "execution_count": 18,
   "id": "c0c253b9",
   "metadata": {
    "execution": {
     "iopub.execute_input": "2022-08-21T14:09:27.865200Z",
     "iopub.status.busy": "2022-08-21T14:09:27.864376Z",
     "iopub.status.idle": "2022-08-21T14:09:28.507643Z",
     "shell.execute_reply": "2022-08-21T14:09:28.506423Z"
    },
    "papermill": {
     "duration": 0.657177,
     "end_time": "2022-08-21T14:09:28.510424",
     "exception": false,
     "start_time": "2022-08-21T14:09:27.853247",
     "status": "completed"
    },
    "tags": []
   },
   "outputs": [],
   "source": [
    "train_df['category_1'] = train_df['category_1'].fillna(\"Nan\")\n",
    "train_df['category_2'] = train_df['category_2'].fillna(\"Nan\")\n",
    "test_df['category_1'] = test_df['category_1'].fillna(\"Nan\")\n",
    "test_df['category_2'] = test_df['category_2'].fillna(\"Nan\")"
   ]
  },
  {
   "cell_type": "markdown",
   "id": "371eb9d4",
   "metadata": {
    "papermill": {
     "duration": 0.010096,
     "end_time": "2022-08-21T14:09:28.530564",
     "exception": false,
     "start_time": "2022-08-21T14:09:28.520468",
     "status": "completed"
    },
    "tags": []
   },
   "source": [
    "# factorize：配列のユニークな文字にそれぞれ数値の1からラベルを割振る"
   ]
  },
  {
   "cell_type": "code",
   "execution_count": 19,
   "id": "451ef5d1",
   "metadata": {
    "execution": {
     "iopub.execute_input": "2022-08-21T14:09:28.552161Z",
     "iopub.status.busy": "2022-08-21T14:09:28.551725Z",
     "iopub.status.idle": "2022-08-21T14:09:30.720556Z",
     "shell.execute_reply": "2022-08-21T14:09:30.719008Z"
    },
    "papermill": {
     "duration": 2.183336,
     "end_time": "2022-08-21T14:09:30.723869",
     "exception": false,
     "start_time": "2022-08-21T14:09:28.540533",
     "status": "completed"
    },
    "tags": []
   },
   "outputs": [],
   "source": [
    "train_df['name'], _ = pd.factorize(train_df['name'])\n",
    "train_df['brand_name'], _ = pd.factorize(train_df['brand_name'])\n",
    "train_df['category_0'], _ = pd.factorize(train_df['category_0'])\n",
    "train_df['category_1'], _ = pd.factorize(train_df['category_1'])\n",
    "train_df['category_2'], _ = pd.factorize(train_df['category_2'])\n",
    "\n",
    "test_df['name'], _ = pd.factorize(test_df['name'])\n",
    "test_df['brand_name'], _ = pd.factorize(test_df['brand_name'])\n",
    "test_df['category_0'], _ = pd.factorize(test_df['category_0'])\n",
    "test_df['category_1'], _ = pd.factorize(test_df['category_1'])\n",
    "test_df['category_2'], _ = pd.factorize(test_df['category_2'])"
   ]
  },
  {
   "cell_type": "markdown",
   "id": "638e8a48",
   "metadata": {
    "papermill": {
     "duration": 0.011937,
     "end_time": "2022-08-21T14:09:30.745901",
     "exception": false,
     "start_time": "2022-08-21T14:09:30.733964",
     "status": "completed"
    },
    "tags": []
   },
   "source": [
    "# 不要なカラムの削除"
   ]
  },
  {
   "cell_type": "code",
   "execution_count": 20,
   "id": "526f8b2a",
   "metadata": {
    "execution": {
     "iopub.execute_input": "2022-08-21T14:09:30.769528Z",
     "iopub.status.busy": "2022-08-21T14:09:30.769036Z",
     "iopub.status.idle": "2022-08-21T14:09:30.986130Z",
     "shell.execute_reply": "2022-08-21T14:09:30.984568Z"
    },
    "papermill": {
     "duration": 0.232814,
     "end_time": "2022-08-21T14:09:30.989030",
     "exception": false,
     "start_time": "2022-08-21T14:09:30.756216",
     "status": "completed"
    },
    "tags": []
   },
   "outputs": [],
   "source": [
    "train_df.drop(['train_id', 'category_name', 'item_description'], axis=1, inplace=True)\n",
    "test_df.drop(['test_id', 'category_name', 'item_description'], axis=1, inplace=True)"
   ]
  },
  {
   "cell_type": "code",
   "execution_count": 21,
   "id": "12c876d4",
   "metadata": {
    "execution": {
     "iopub.execute_input": "2022-08-21T14:09:31.010480Z",
     "iopub.status.busy": "2022-08-21T14:09:31.010059Z",
     "iopub.status.idle": "2022-08-21T14:09:31.023428Z",
     "shell.execute_reply": "2022-08-21T14:09:31.022356Z"
    },
    "papermill": {
     "duration": 0.026858,
     "end_time": "2022-08-21T14:09:31.025846",
     "exception": false,
     "start_time": "2022-08-21T14:09:30.998988",
     "status": "completed"
    },
    "tags": []
   },
   "outputs": [
    {
     "data": {
      "text/html": [
       "<div>\n",
       "<style scoped>\n",
       "    .dataframe tbody tr th:only-of-type {\n",
       "        vertical-align: middle;\n",
       "    }\n",
       "\n",
       "    .dataframe tbody tr th {\n",
       "        vertical-align: top;\n",
       "    }\n",
       "\n",
       "    .dataframe thead th {\n",
       "        text-align: right;\n",
       "    }\n",
       "</style>\n",
       "<table border=\"1\" class=\"dataframe\">\n",
       "  <thead>\n",
       "    <tr style=\"text-align: right;\">\n",
       "      <th></th>\n",
       "      <th>name</th>\n",
       "      <th>item_condition_id</th>\n",
       "      <th>brand_name</th>\n",
       "      <th>price</th>\n",
       "      <th>shipping</th>\n",
       "      <th>category_0</th>\n",
       "      <th>category_1</th>\n",
       "      <th>category_2</th>\n",
       "    </tr>\n",
       "  </thead>\n",
       "  <tbody>\n",
       "    <tr>\n",
       "      <th>0</th>\n",
       "      <td>0</td>\n",
       "      <td>3</td>\n",
       "      <td>0</td>\n",
       "      <td>2.397895</td>\n",
       "      <td>1</td>\n",
       "      <td>0</td>\n",
       "      <td>0</td>\n",
       "      <td>0</td>\n",
       "    </tr>\n",
       "    <tr>\n",
       "      <th>1</th>\n",
       "      <td>1</td>\n",
       "      <td>3</td>\n",
       "      <td>1</td>\n",
       "      <td>3.970292</td>\n",
       "      <td>0</td>\n",
       "      <td>1</td>\n",
       "      <td>1</td>\n",
       "      <td>1</td>\n",
       "    </tr>\n",
       "    <tr>\n",
       "      <th>2</th>\n",
       "      <td>2</td>\n",
       "      <td>1</td>\n",
       "      <td>2</td>\n",
       "      <td>2.397895</td>\n",
       "      <td>1</td>\n",
       "      <td>2</td>\n",
       "      <td>2</td>\n",
       "      <td>2</td>\n",
       "    </tr>\n",
       "    <tr>\n",
       "      <th>3</th>\n",
       "      <td>3</td>\n",
       "      <td>1</td>\n",
       "      <td>0</td>\n",
       "      <td>3.583519</td>\n",
       "      <td>1</td>\n",
       "      <td>3</td>\n",
       "      <td>3</td>\n",
       "      <td>3</td>\n",
       "    </tr>\n",
       "    <tr>\n",
       "      <th>4</th>\n",
       "      <td>4</td>\n",
       "      <td>1</td>\n",
       "      <td>0</td>\n",
       "      <td>3.806662</td>\n",
       "      <td>0</td>\n",
       "      <td>2</td>\n",
       "      <td>4</td>\n",
       "      <td>4</td>\n",
       "    </tr>\n",
       "  </tbody>\n",
       "</table>\n",
       "</div>"
      ],
      "text/plain": [
       "   name  item_condition_id  brand_name     price  shipping  category_0  \\\n",
       "0     0                  3           0  2.397895         1           0   \n",
       "1     1                  3           1  3.970292         0           1   \n",
       "2     2                  1           2  2.397895         1           2   \n",
       "3     3                  1           0  3.583519         1           3   \n",
       "4     4                  1           0  3.806662         0           2   \n",
       "\n",
       "   category_1  category_2  \n",
       "0           0           0  \n",
       "1           1           1  \n",
       "2           2           2  \n",
       "3           3           3  \n",
       "4           4           4  "
      ]
     },
     "execution_count": 21,
     "metadata": {},
     "output_type": "execute_result"
    }
   ],
   "source": [
    "train_df.head()"
   ]
  },
  {
   "cell_type": "code",
   "execution_count": 22,
   "id": "4186b552",
   "metadata": {
    "execution": {
     "iopub.execute_input": "2022-08-21T14:09:31.048097Z",
     "iopub.status.busy": "2022-08-21T14:09:31.047622Z",
     "iopub.status.idle": "2022-08-21T14:09:31.059906Z",
     "shell.execute_reply": "2022-08-21T14:09:31.058756Z"
    },
    "papermill": {
     "duration": 0.026083,
     "end_time": "2022-08-21T14:09:31.062143",
     "exception": false,
     "start_time": "2022-08-21T14:09:31.036060",
     "status": "completed"
    },
    "tags": []
   },
   "outputs": [
    {
     "data": {
      "text/html": [
       "<div>\n",
       "<style scoped>\n",
       "    .dataframe tbody tr th:only-of-type {\n",
       "        vertical-align: middle;\n",
       "    }\n",
       "\n",
       "    .dataframe tbody tr th {\n",
       "        vertical-align: top;\n",
       "    }\n",
       "\n",
       "    .dataframe thead th {\n",
       "        text-align: right;\n",
       "    }\n",
       "</style>\n",
       "<table border=\"1\" class=\"dataframe\">\n",
       "  <thead>\n",
       "    <tr style=\"text-align: right;\">\n",
       "      <th></th>\n",
       "      <th>name</th>\n",
       "      <th>item_condition_id</th>\n",
       "      <th>brand_name</th>\n",
       "      <th>shipping</th>\n",
       "      <th>category_0</th>\n",
       "      <th>category_1</th>\n",
       "      <th>category_2</th>\n",
       "    </tr>\n",
       "  </thead>\n",
       "  <tbody>\n",
       "    <tr>\n",
       "      <th>0</th>\n",
       "      <td>0</td>\n",
       "      <td>1</td>\n",
       "      <td>0</td>\n",
       "      <td>1</td>\n",
       "      <td>0</td>\n",
       "      <td>0</td>\n",
       "      <td>0</td>\n",
       "    </tr>\n",
       "    <tr>\n",
       "      <th>1</th>\n",
       "      <td>1</td>\n",
       "      <td>1</td>\n",
       "      <td>0</td>\n",
       "      <td>1</td>\n",
       "      <td>1</td>\n",
       "      <td>1</td>\n",
       "      <td>1</td>\n",
       "    </tr>\n",
       "    <tr>\n",
       "      <th>2</th>\n",
       "      <td>2</td>\n",
       "      <td>1</td>\n",
       "      <td>1</td>\n",
       "      <td>1</td>\n",
       "      <td>2</td>\n",
       "      <td>2</td>\n",
       "      <td>2</td>\n",
       "    </tr>\n",
       "    <tr>\n",
       "      <th>3</th>\n",
       "      <td>3</td>\n",
       "      <td>2</td>\n",
       "      <td>0</td>\n",
       "      <td>0</td>\n",
       "      <td>0</td>\n",
       "      <td>3</td>\n",
       "      <td>3</td>\n",
       "    </tr>\n",
       "    <tr>\n",
       "      <th>4</th>\n",
       "      <td>4</td>\n",
       "      <td>3</td>\n",
       "      <td>0</td>\n",
       "      <td>1</td>\n",
       "      <td>1</td>\n",
       "      <td>4</td>\n",
       "      <td>4</td>\n",
       "    </tr>\n",
       "  </tbody>\n",
       "</table>\n",
       "</div>"
      ],
      "text/plain": [
       "   name  item_condition_id  brand_name  shipping  category_0  category_1  \\\n",
       "0     0                  1           0         1           0           0   \n",
       "1     1                  1           0         1           1           1   \n",
       "2     2                  1           1         1           2           2   \n",
       "3     3                  2           0         0           0           3   \n",
       "4     4                  3           0         1           1           4   \n",
       "\n",
       "   category_2  \n",
       "0           0  \n",
       "1           1  \n",
       "2           2  \n",
       "3           3  \n",
       "4           4  "
      ]
     },
     "execution_count": 22,
     "metadata": {},
     "output_type": "execute_result"
    }
   ],
   "source": [
    "test_df.head()"
   ]
  },
  {
   "cell_type": "code",
   "execution_count": 23,
   "id": "3e033fc9",
   "metadata": {
    "execution": {
     "iopub.execute_input": "2022-08-21T14:09:31.084580Z",
     "iopub.status.busy": "2022-08-21T14:09:31.084155Z",
     "iopub.status.idle": "2022-08-21T14:09:31.111068Z",
     "shell.execute_reply": "2022-08-21T14:09:31.109804Z"
    },
    "papermill": {
     "duration": 0.041125,
     "end_time": "2022-08-21T14:09:31.113593",
     "exception": false,
     "start_time": "2022-08-21T14:09:31.072468",
     "status": "completed"
    },
    "tags": []
   },
   "outputs": [
    {
     "data": {
      "text/plain": [
       "name                 0\n",
       "item_condition_id    0\n",
       "brand_name           0\n",
       "price                0\n",
       "shipping             0\n",
       "category_0           0\n",
       "category_1           0\n",
       "category_2           0\n",
       "dtype: int64"
      ]
     },
     "execution_count": 23,
     "metadata": {},
     "output_type": "execute_result"
    }
   ],
   "source": [
    "train_df.isnull().sum()"
   ]
  },
  {
   "cell_type": "code",
   "execution_count": 24,
   "id": "51f226ab",
   "metadata": {
    "execution": {
     "iopub.execute_input": "2022-08-21T14:09:31.136338Z",
     "iopub.status.busy": "2022-08-21T14:09:31.135924Z",
     "iopub.status.idle": "2022-08-21T14:09:31.152598Z",
     "shell.execute_reply": "2022-08-21T14:09:31.151391Z"
    },
    "papermill": {
     "duration": 0.030845,
     "end_time": "2022-08-21T14:09:31.155049",
     "exception": false,
     "start_time": "2022-08-21T14:09:31.124204",
     "status": "completed"
    },
    "tags": []
   },
   "outputs": [
    {
     "data": {
      "text/plain": [
       "name                 0\n",
       "item_condition_id    0\n",
       "brand_name           0\n",
       "shipping             0\n",
       "category_0           0\n",
       "category_1           0\n",
       "category_2           0\n",
       "dtype: int64"
      ]
     },
     "execution_count": 24,
     "metadata": {},
     "output_type": "execute_result"
    }
   ],
   "source": [
    "test_df.isnull().sum()"
   ]
  },
  {
   "cell_type": "code",
   "execution_count": null,
   "id": "26add7c3",
   "metadata": {
    "papermill": {
     "duration": 0.010635,
     "end_time": "2022-08-21T14:09:31.176101",
     "exception": false,
     "start_time": "2022-08-21T14:09:31.165466",
     "status": "completed"
    },
    "tags": []
   },
   "outputs": [],
   "source": []
  }
 ],
 "metadata": {
  "kernelspec": {
   "display_name": "Python 3",
   "language": "python",
   "name": "python3"
  },
  "language_info": {
   "codemirror_mode": {
    "name": "ipython",
    "version": 3
   },
   "file_extension": ".py",
   "mimetype": "text/x-python",
   "name": "python",
   "nbconvert_exporter": "python",
   "pygments_lexer": "ipython3",
   "version": "3.7.12"
  },
  "papermill": {
   "default_parameters": {},
   "duration": 67.537582,
   "end_time": "2022-08-21T14:09:32.511922",
   "environment_variables": {},
   "exception": null,
   "input_path": "__notebook__.ipynb",
   "output_path": "__notebook__.ipynb",
   "parameters": {},
   "start_time": "2022-08-21T14:08:24.974340",
   "version": "2.3.4"
  }
 },
 "nbformat": 4,
 "nbformat_minor": 5
}
